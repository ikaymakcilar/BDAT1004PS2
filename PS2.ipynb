{
 "cells": [
  {
   "cell_type": "code",
   "execution_count": 6,
   "id": "a59065b3",
   "metadata": {},
   "outputs": [
    {
     "data": {
      "text/plain": [
       "6"
      ]
     },
     "execution_count": 6,
     "metadata": {},
     "output_type": "execute_result"
    }
   ],
   "source": [
    "# Question 1\n",
    "a = 0;               # a is initialized to 0\n",
    "\n",
    "def b():             \n",
    "    global a;        # global a will be used in this function\n",
    "    a = c(a);        # this will call c(a) with global a.\n",
    "    \n",
    "def c(a):\n",
    "    return a + 2;  \n",
    "\n",
    "b();                # when a = c(a) is called, a is 0 initially. That means a = c(0) which is 2.\n",
    "b();                # when a = c(a) is called, a is 2 because we called b() once. That means a = c(2) which is 4.\n",
    "b();                # when a = c(a) is called, a is 4 because we called b() twice. That means a = c(4) which is 6.\n",
    "a"
   ]
  },
  {
   "cell_type": "code",
   "execution_count": 14,
   "id": "beb2cbdf",
   "metadata": {},
   "outputs": [
    {
     "name": "stdout",
     "output_type": "stream",
     "text": [
      "File file.txt not found.\n"
     ]
    }
   ],
   "source": [
    "# Question 2\n",
    "\n",
    "def fileLength(fileName):\n",
    "    try:\n",
    "        infile = open(fileName, 'r');\n",
    "        content = infile.read();\n",
    "        infile.close();\n",
    "        wordList = content.split();\n",
    "        print(len(wordList));\n",
    "    except FileNotFoundError:\n",
    "        print(f\"File {fileName} not found.\");\n",
    "\n",
    "fileLength('file.txt');"
   ]
  },
  {
   "cell_type": "code",
   "execution_count": 34,
   "id": "4a6847da",
   "metadata": {},
   "outputs": [
    {
     "name": "stdout",
     "output_type": "stream",
     "text": [
      "['doll', 'firetruck', 'kitten']\n",
      "I am a Kangaroo located at coordinates (0, 0)\n",
      "['doll', 'firetruck', 'kitten']\n",
      "I am a Kangaroo located at coordinates (3, 0)\n"
     ]
    }
   ],
   "source": [
    "# Question 3.1\n",
    "class Marsupial:\n",
    "    def __init__(self):\n",
    "        self.pouch = [];\n",
    "        \n",
    "    def put_in_pouch(self, name):\n",
    "        self.pouch.append(name);\n",
    "        \n",
    "    def pouch_contents(self):\n",
    "        return self.pouch;\n",
    "\n",
    "# Question 3.2\n",
    "class Kangaroo(Marsupial):\n",
    "    def __init__(self, x, y):\n",
    "        super().__init__();\n",
    "        self.x = x;\n",
    "        self.y = y;\n",
    "        \n",
    "    def __str__(self):\n",
    "        return f'I am a Kangaroo located at coordinates ({self.x}, {self.y})'\n",
    "    \n",
    "    def jump(self, dx, dy):\n",
    "        self.x += dx\n",
    "        self.y += dy\n",
    "    \n",
    "m = Marsupial();\n",
    "m.put_in_pouch('doll')\n",
    "m.put_in_pouch('firetruck')\n",
    "m.put_in_pouch('kitten')\n",
    "print(m.pouch_contents())\n",
    "\n",
    "k = Kangaroo(0,0);\n",
    "print(k);\n",
    "\n",
    "k.put_in_pouch('doll');\n",
    "k.put_in_pouch('firetruck');\n",
    "k.put_in_pouch('kitten');\n",
    "print(k.pouch_contents());\n",
    "\n",
    "k.jump(1,0)\n",
    "k.jump(1,0)\n",
    "k.jump(1,0)\n",
    "print(k)"
   ]
  },
  {
   "cell_type": "code",
   "execution_count": 49,
   "id": "bc1f5b34",
   "metadata": {},
   "outputs": [
    {
     "name": "stdout",
     "output_type": "stream",
     "text": [
      "1\n",
      "\n",
      "\n",
      "10\n",
      "5\n",
      "16\n",
      "8\n",
      "4\n",
      "2\n",
      "1\n"
     ]
    }
   ],
   "source": [
    "# Question 4\n",
    "def collatz(x):\n",
    "    if(x > 0):\n",
    "        print(x);\n",
    "        if x == 1:\n",
    "            return;\n",
    "        if x % 2 == 0:\n",
    "            collatz(x // 2)\n",
    "        else:\n",
    "            collatz(3 * x + 1)\n",
    "    else:\n",
    "        return;\n",
    "collatz(1);\n",
    "print(\"\\n\");\n",
    "collatz(10);"
   ]
  },
  {
   "cell_type": "code",
   "execution_count": 60,
   "id": "2a944267",
   "metadata": {},
   "outputs": [
    {
     "name": "stdout",
     "output_type": "stream",
     "text": [
      "0\n",
      "\n",
      "1\n",
      "\n",
      "1010\n",
      "\n",
      "1001"
     ]
    }
   ],
   "source": [
    "# Question 5\n",
    "def binary(num):\n",
    "    if(num <= 1):\n",
    "        print(num, end='');\n",
    "        return;\n",
    "    binary(num // 2);\n",
    "    print(num % 2, end='');\n",
    "binary(0);\n",
    "print(\"\\n\");\n",
    "binary(1);\n",
    "print(\"\\n\");\n",
    "binary(10);\n",
    "print(\"\\n\");\n",
    "binary(9);"
   ]
  },
  {
   "cell_type": "code",
   "execution_count": null,
   "id": "11531510",
   "metadata": {},
   "outputs": [],
   "source": [
    "# Question 6"
   ]
  },
  {
   "cell_type": "code",
   "execution_count": 65,
   "id": "3f2f0ed8",
   "metadata": {},
   "outputs": [],
   "source": [
    "# Question 7"
   ]
  },
  {
   "cell_type": "code",
   "execution_count": 80,
   "id": "c9600f0d",
   "metadata": {},
   "outputs": [],
   "source": [
    "# Question 8 (Creating the Table)\n",
    "import sqlite3\n",
    "\n",
    "conn = sqlite3.connect('weather_data.db');\n",
    "\n",
    "cur = conn.cursor();\n",
    "\n",
    "# Creating a new table named 'weather_data'\n",
    "cur.execute('''\n",
    "CREATE TABLE weather_data (\n",
    "    id INTEGER PRIMARY KEY,\n",
    "    city TEXT NOT NULL,\n",
    "    country TEXT NOT NULL,\n",
    "    season TEXT NOT NULL,\n",
    "    temperature_C REAL NOT NULL,\n",
    "    rainfall_mm REAL NOT NULL\n",
    ")\n",
    "''');\n",
    "\n",
    "data = [\n",
    "    (\"Mumbai\", \"India\", \"Winter\", 24.8, 5.9),\n",
    "    (\"Mumbai\", \"India\", \"Spring\", 28.4, 16.2),\n",
    "    (\"Mumbai\", \"India\", \"Summer\", 27.9, 1549.4),\n",
    "    (\"Mumbai\", \"India\", \"Fall\", 27.6, 346.0),\n",
    "    (\"London\", \"United Kingdom\", \"Winter\", 4.2, 207.7),\n",
    "    (\"London\", \"United Kingdom\", \"Spring\", 8.3, 169.6),\n",
    "    (\"London\", \"United Kingdom\", \"Summer\", 15.7, 157.0),\n",
    "    (\"London\", \"United Kingdom\", \"Fall\", 10.4, 218.5),\n",
    "    (\"Cairo\", \"Egypt\", \"Winter\", 13.6, 16.5),\n",
    "    (\"Cairo\", \"Egypt\", \"Spring\", 20.7, 6.5),\n",
    "    (\"Cairo\", \"Egypt\", \"Summer\", 27.7, 0.1),\n",
    "    (\"Cairo\", \"Egypt\", \"Fall\", 22.2, 4.5)\n",
    "];\n",
    "\n",
    "cur.executemany('''\n",
    "INSERT INTO weather_data (city, country, season, temperature_C, rainfall_mm)\n",
    "VALUES (?, ?, ?, ?, ?)\n",
    "''', data);\n",
    "\n",
    "conn.commit();"
   ]
  },
  {
   "cell_type": "code",
   "execution_count": 81,
   "id": "0e8a07ef",
   "metadata": {},
   "outputs": [
    {
     "name": "stdout",
     "output_type": "stream",
     "text": [
      "24.8\n",
      "28.4\n",
      "27.9\n",
      "27.6\n",
      "4.2\n",
      "8.3\n",
      "15.7\n",
      "10.4\n",
      "13.6\n",
      "20.7\n",
      "27.7\n",
      "22.2\n"
     ]
    }
   ],
   "source": [
    "# Question 8.a\n",
    "cur.execute(\"SELECT temperature_C FROM weather_data\")\n",
    "temperatures = cur.fetchall();\n",
    "\n",
    "for temp in temperatures:\n",
    "    print(temp[0]);"
   ]
  },
  {
   "cell_type": "code",
   "execution_count": 83,
   "id": "b22040fe",
   "metadata": {},
   "outputs": [
    {
     "name": "stdout",
     "output_type": "stream",
     "text": [
      "Mumbai\n",
      "London\n",
      "Cairo\n"
     ]
    }
   ],
   "source": [
    "# Question 8.b\n",
    "cur.execute(\"SELECT DISTINCT city FROM weather_data\");\n",
    "cities = cur.fetchall();\n",
    "\n",
    "for city in cities:\n",
    "    print(city[0]);"
   ]
  },
  {
   "cell_type": "code",
   "execution_count": 85,
   "id": "46110f30",
   "metadata": {},
   "outputs": [
    {
     "name": "stdout",
     "output_type": "stream",
     "text": [
      "(1, 'Mumbai', 'India', 'Winter', 24.8, 5.9)\n",
      "(2, 'Mumbai', 'India', 'Spring', 28.4, 16.2)\n",
      "(3, 'Mumbai', 'India', 'Summer', 27.9, 1549.4)\n",
      "(4, 'Mumbai', 'India', 'Fall', 27.6, 346.0)\n"
     ]
    }
   ],
   "source": [
    "# Question 8.c\n",
    "cur.execute(\"SELECT * FROM weather_data WHERE country = 'India'\");\n",
    "records = cur.fetchall();\n",
    "for record in records:\n",
    "    print(record);"
   ]
  },
  {
   "cell_type": "code",
   "execution_count": 86,
   "id": "f5a9165b",
   "metadata": {},
   "outputs": [
    {
     "name": "stdout",
     "output_type": "stream",
     "text": [
      "(4, 'Mumbai', 'India', 'Fall', 27.6, 346.0)\n",
      "(8, 'London', 'United Kingdom', 'Fall', 10.4, 218.5)\n",
      "(12, 'Cairo', 'Egypt', 'Fall', 22.2, 4.5)\n"
     ]
    }
   ],
   "source": [
    "# Question 8.d\n",
    "cur.execute(\"SELECT * FROM weather_data WHERE season = 'Fall'\");\n",
    "records = cur.fetchall();\n",
    "for record in records:\n",
    "    print(record);"
   ]
  },
  {
   "cell_type": "code",
   "execution_count": 88,
   "id": "39e70a5f",
   "metadata": {},
   "outputs": [
    {
     "name": "stdout",
     "output_type": "stream",
     "text": [
      "('Mumbai', 'India', 'Fall')\n",
      "('London', 'United Kingdom', 'Winter')\n",
      "('London', 'United Kingdom', 'Fall')\n"
     ]
    }
   ],
   "source": [
    "# Question 8.e\n",
    "cur.execute(\"SELECT city, country, season FROM weather_data WHERE rainfall_mm BETWEEN 200 AND 400\");\n",
    "records = cur.fetchall();\n",
    "for record in records:\n",
    "    print(record);"
   ]
  },
  {
   "cell_type": "code",
   "execution_count": 89,
   "id": "3a37f428",
   "metadata": {},
   "outputs": [
    {
     "name": "stdout",
     "output_type": "stream",
     "text": [
      "('Cairo', 'Egypt')\n",
      "('Mumbai', 'India')\n"
     ]
    }
   ],
   "source": [
    "# Question 8.f\n",
    "cur.execute(\"SELECT city, country FROM weather_data WHERE season = 'Fall' AND temperature_C > 20 ORDER BY temperature_C ASC\");\n",
    "records = cur.fetchall();\n",
    "for record in records:\n",
    "    print(record);"
   ]
  },
  {
   "cell_type": "code",
   "execution_count": 92,
   "id": "1005830c",
   "metadata": {},
   "outputs": [
    {
     "name": "stdout",
     "output_type": "stream",
     "text": [
      "The total annual rainfall for Cairo is 27.6 mm.\n"
     ]
    }
   ],
   "source": [
    "# Question 8.g\n",
    "cur.execute(\"SELECT SUM(rainfall_mm) FROM weather_data WHERE city = 'Cairo'\");\n",
    "total_rainfall = cur.fetchone();\n",
    "if total_rainfall[0] is not None:\n",
    "    print(f\"The total annual rainfall for Cairo is {total_rainfall[0]} mm.\");\n",
    "else:\n",
    "    print(\"No rainfall data found for Cairo.\");"
   ]
  },
  {
   "cell_type": "code",
   "execution_count": 99,
   "id": "c6ada4d0",
   "metadata": {},
   "outputs": [
    {
     "name": "stdout",
     "output_type": "stream",
     "text": [
      "The total rainfall for Fall is 569.0 mm.\n",
      "The total rainfall for Spring is 192.29999999999998 mm.\n",
      "The total rainfall for Summer is 1706.5 mm.\n",
      "The total rainfall for Winter is 230.1 mm.\n"
     ]
    }
   ],
   "source": [
    "# Question 8.h\n",
    "cur.execute(\"SELECT season, SUM(rainfall_mm) FROM weather_data GROUP BY season\");\n",
    "records = cur.fetchall()\n",
    "\n",
    "for record in records:\n",
    "    season, total_rainfall = record;\n",
    "    print(f\"The total rainfall for {season} is {total_rainfall} mm.\");"
   ]
  },
  {
   "cell_type": "code",
   "execution_count": 100,
   "id": "f9181907",
   "metadata": {},
   "outputs": [
    {
     "name": "stdout",
     "output_type": "stream",
     "text": [
      "['THE', 'QUICK', 'BROWN', 'FOX', 'JUMPS', 'OVER', 'THE', 'LAZY', 'DOG']\n"
     ]
    }
   ],
   "source": [
    "# Question 9.a\n",
    "words = ['The', 'quick', 'brown', 'fox', 'jumps', 'over',\n",
    "'the', 'lazy', 'dog'];\n",
    "uppercase_words = [word.upper() for word in words]\n",
    "\n",
    "print(uppercase_words)"
   ]
  },
  {
   "cell_type": "code",
   "execution_count": 101,
   "id": "78b1a3d7",
   "metadata": {},
   "outputs": [
    {
     "name": "stdout",
     "output_type": "stream",
     "text": [
      "['the', 'quick', 'brown', 'fox', 'jumps', 'over', 'the', 'lazy', 'dog']\n"
     ]
    }
   ],
   "source": [
    "# Question 9.b\n",
    "lowercase_words = [word.lower() for word in words];\n",
    "\n",
    "print(lowercase_words);"
   ]
  },
  {
   "cell_type": "code",
   "execution_count": 103,
   "id": "3bd87aff",
   "metadata": {},
   "outputs": [
    {
     "name": "stdout",
     "output_type": "stream",
     "text": [
      "[3, 5, 5, 3, 5, 4, 3, 4, 3]\n"
     ]
    }
   ],
   "source": [
    "# Question 9.c\n",
    "length_of_words = [len(word) for word in words];\n",
    "\n",
    "print(length_of_words);"
   ]
  },
  {
   "cell_type": "code",
   "execution_count": 104,
   "id": "066208d6",
   "metadata": {},
   "outputs": [
    {
     "name": "stdout",
     "output_type": "stream",
     "text": [
      "[['THE', 'the', 3], ['QUICK', 'quick', 5], ['BROWN', 'brown', 5], ['FOX', 'fox', 3], ['JUMPS', 'jumps', 5], ['OVER', 'over', 4], ['THE', 'the', 3], ['LAZY', 'lazy', 4], ['DOG', 'dog', 3]]\n"
     ]
    }
   ],
   "source": [
    "# Question 9.d\n",
    "list_of_list = [[word.upper(), word.lower(), len(word)] for word in words];\n",
    "\n",
    "print(list_of_list);"
   ]
  },
  {
   "cell_type": "code",
   "execution_count": 106,
   "id": "a2ab9ab1",
   "metadata": {},
   "outputs": [
    {
     "name": "stdout",
     "output_type": "stream",
     "text": [
      "['quick', 'brown', 'jumps', 'over', 'lazy']\n"
     ]
    }
   ],
   "source": [
    "# Question 9.e\n",
    "four_or_more = [word for word in words if len(word) >= 4];\n",
    "\n",
    "print(four_or_more)"
   ]
  }
 ],
 "metadata": {
  "kernelspec": {
   "display_name": "Python 3 (ipykernel)",
   "language": "python",
   "name": "python3"
  },
  "language_info": {
   "codemirror_mode": {
    "name": "ipython",
    "version": 3
   },
   "file_extension": ".py",
   "mimetype": "text/x-python",
   "name": "python",
   "nbconvert_exporter": "python",
   "pygments_lexer": "ipython3",
   "version": "3.11.4"
  }
 },
 "nbformat": 4,
 "nbformat_minor": 5
}
